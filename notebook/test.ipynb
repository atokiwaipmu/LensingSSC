{
 "cells": [
  {
   "cell_type": "markdown",
   "metadata": {},
   "source": [
    "# Load Libraries"
   ]
  },
  {
   "cell_type": "code",
   "execution_count": 11,
   "metadata": {},
   "outputs": [],
   "source": [
    "# basic\n",
    "import os\n",
    "import sys\n",
    "import numpy as np\n",
    "import matplotlib.pyplot as plt\n",
    "\n",
    "# for reading the data\n",
    "from nbodykit.source.catalog import BigFileCatalog\n",
    "from nbodykit.transform import ConcatenateSources, CartesianToEquatorial"
   ]
  },
  {
   "cell_type": "code",
   "execution_count": 16,
   "metadata": {},
   "outputs": [],
   "source": [
    "sys.path.append('/lustre/work/akira.tokiwa/LensingSSC')\n",
    "\n",
    "from lib.mpl_aea.mpl_aea import healpix"
   ]
  },
  {
   "cell_type": "markdown",
   "metadata": {},
   "source": [
    "# Load Data"
   ]
  },
  {
   "cell_type": "code",
   "execution_count": 4,
   "metadata": {},
   "outputs": [],
   "source": [
    "# the data directory\n",
    "data_dir = '/lustre/work/akira.tokiwa/supersample/'\n",
    "sample_path = data_dir + 'rfof_proc128_nc1024_size5000_nsteps60lin_ldr0_rcvnil_fstnone_pnf2_lnf2_s100_dhf1.0000_tiled0.20_fll_elllim_10000_npix_4096_rfofkdt_8/'"
   ]
  },
  {
   "cell_type": "code",
   "execution_count": 5,
   "metadata": {},
   "outputs": [
    {
     "name": "stderr",
     "output_type": "stream",
     "text": [
      "/home/akira.tokiwa/.conda/envs/cfastpm/lib/python3.8/site-packages/bigfile/__init__.py:358: FutureWarning: Passing (type, 1) or '1type' as a synonym of type is deprecated; in a future version of numpy, it will be understood as (type, (1,)) / '(1,)type'.\n",
      "  return pyxbigfile.Dataset.__init__(self, file, dtype=dtype, size=size)\n"
     ]
    }
   ],
   "source": [
    "# read the data\n",
    "rfof = BigFileCatalog(sample_path + \"rfof_1.0000\", dataset='RFOF/', header='header')\n",
    "hpix = BigFileCatalog(sample_path + \"usmesh\", dataset='HEALPIX/', header='header')\n",
    "meshs = BigFileCatalog(sample_path + \"usmesh\", dataset='1/', header='header')\n",
    "mesh_rfof = BigFileCatalog(sample_path + \"usmesh\", dataset='RFOF/', header='header')"
   ]
  },
  {
   "cell_type": "code",
   "execution_count": 9,
   "metadata": {},
   "outputs": [
    {
     "name": "stdout",
     "output_type": "stream",
     "text": [
      "Read RFOF, columns =  ['ID', 'InitialPosition', 'Length', 'MinID', 'Position', 'RVdisp', 'Rdisp', 'Selection', 'Task', 'Value', 'Vdisp', 'Velocity', 'Weight']\n",
      "Read HEALPIX, columns =  ['Aemit', 'ID', 'Mass', 'Rmom', 'Selection', 'Value', 'Weight']\n",
      "Read mesh, columns =  ['Aemit', 'ID', 'Position', 'Selection', 'Value', 'Velocity', 'Weight']\n",
      "Read mesh_rfof, columns =  ['Aemit', 'ID', 'Length', 'MinID', 'Position', 'RVdisp', 'Rdisp', 'Selection', 'Task', 'Value', 'Vdisp', 'Velocity', 'Weight']\n"
     ]
    }
   ],
   "source": [
    "# print the header\n",
    "print(\"Read RFOF, columns = \", rfof.columns)\n",
    "print(\"Read HEALPIX, columns = \", hpix.columns)\n",
    "print(\"Read mesh, columns = \", meshs.columns)\n",
    "print(\"Read mesh_rfof, columns = \", mesh_rfof.columns)"
   ]
  },
  {
   "cell_type": "markdown",
   "metadata": {},
   "source": [
    "# Functions"
   ]
  },
  {
   "cell_type": "code",
   "execution_count": 10,
   "metadata": {},
   "outputs": [],
   "source": [
    "def read_range(cat, amin, amax):\n",
    "    \"\"\" Read a portion of the lightcone between two red shift ranges\n",
    "        The lightcone from FastPM is sorted in Aemit and an index is built.\n",
    "        So we make use of that.\n",
    "        CrowCanyon new runs are full sky\n",
    "    \"\"\"\n",
    "    edges = cat.attrs['aemitIndex.edges']\n",
    "    offsets = cat.attrs['aemitIndex.offset']\n",
    "    start, end = edges.searchsorted([amin, amax])\n",
    "    if cat.comm.rank == 0:\n",
    "        cat.logger.info(\"Range of index is %d to %d\" %(( start + 1, end + 1)))\n",
    "    start = offsets[start + 1]\n",
    "    end = offsets[end + 1]\n",
    "\n",
    "    cat =  cat.query_range(start, end)\n",
    "    if cat.csize > 0:\n",
    "        cat['RA'], cat['DEC'] = CartesianToEquatorial(cat['Position'], frame='galactic')\n",
    "    else:\n",
    "        cat['RA'] = 0\n",
    "        cat['DEC'] = 0\n",
    "    return cat"
   ]
  },
  {
   "cell_type": "code",
   "execution_count": null,
   "metadata": {},
   "outputs": [],
   "source": []
  }
 ],
 "metadata": {
  "kernelspec": {
   "display_name": "cfastpm",
   "language": "python",
   "name": "python3"
  },
  "language_info": {
   "codemirror_mode": {
    "name": "ipython",
    "version": 3
   },
   "file_extension": ".py",
   "mimetype": "text/x-python",
   "name": "python",
   "nbconvert_exporter": "python",
   "pygments_lexer": "ipython3",
   "version": "3.8.16"
  }
 },
 "nbformat": 4,
 "nbformat_minor": 2
}
