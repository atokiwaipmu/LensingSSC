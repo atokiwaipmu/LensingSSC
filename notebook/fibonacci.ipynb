{
 "cells": [
  {
   "cell_type": "code",
   "execution_count": 1,
   "metadata": {},
   "outputs": [],
   "source": [
    "from src.flatsky.fibonacci_patch import fibonacci_grid_on_sphere\n",
    "\n",
    "import numpy as np\n",
    "import healpy as hp\n",
    "import matplotlib.pyplot as plt"
   ]
  },
  {
   "cell_type": "code",
   "execution_count": 6,
   "metadata": {},
   "outputs": [],
   "source": [
    "patch_size = 10\n",
    "nside = 8192\n",
    "save_dir = '/lustre/work/akira.tokiwa/Projects/LensingSSC/img/configure'"
   ]
  },
  {
   "cell_type": "markdown",
   "metadata": {},
   "source": [
    "# Functions"
   ]
  },
  {
   "cell_type": "code",
   "execution_count": 2,
   "metadata": {},
   "outputs": [],
   "source": [
    "from scipy.spatial import cKDTree\n",
    "\n",
    "def fibonacci_grid_on_sphere(N):\n",
    "    \"\"\"\n",
    "    Generate an array of points on a Fibonacci grid on a sphere.\n",
    "\n",
    "    Parameters:\n",
    "    N (int): Number of points to distribute on the sphere.\n",
    "\n",
    "    Returns:\n",
    "    np.ndarray: Array of shape (N, 2) where each row contains (theta, phi) coordinates of a point.\n",
    "    \"\"\"\n",
    "    points = np.zeros((N, 2))\n",
    "    \n",
    "    phi = (np.sqrt(5) + 1) / 2  # Golden ratio\n",
    "    golden_angle = 2 * np.pi / phi\n",
    "    \n",
    "    for i in range(N):\n",
    "        theta = np.arccos(1 - 2 * (i + 0.5) / N)\n",
    "        phi = (golden_angle * i) % (2 * np.pi)\n",
    "        points[i] = [theta, phi]\n",
    "    \n",
    "    return points\n",
    "\n",
    "def spherical_distance(theta1, phi1, theta2, phi2):\n",
    "    \"\"\"\n",
    "    Calculate the great-circle distance between two points on a sphere given their spherical coordinates.\n",
    "    \"\"\"\n",
    "    delta_phi = phi2 - phi1\n",
    "    return np.arccos(np.sin(theta1) * np.sin(theta2) + np.cos(theta1) * np.cos(theta2) * np.cos(delta_phi))\n",
    "\n",
    "def find_optimal_N(min_distance, initial_N=400):\n",
    "    N = initial_N\n",
    "    while True:\n",
    "        points_spherical = fibonacci_grid_on_sphere(N)\n",
    "        \n",
    "        # Convert to Cartesian coordinates for KDTree (not for distance calculations)\n",
    "        points_cartesian = np.array([\n",
    "            [np.sin(theta) * np.cos(phi), np.sin(theta) * np.sin(phi), np.cos(theta)] \n",
    "            for theta, phi in points_spherical\n",
    "        ])\n",
    "        \n",
    "        # Create a KDTree for finding nearest neighbors\n",
    "        tree = cKDTree(points_cartesian)\n",
    "        \n",
    "        # Find the indices of the nearest neighbors\n",
    "        _, indices = tree.query(points_cartesian, k=2)\n",
    "        \n",
    "        # Calculate spherical distances\n",
    "        nearest_distances = [\n",
    "            spherical_distance(points_spherical[i][0], points_spherical[i][1], \n",
    "                               points_spherical[indices[i][1]][0], points_spherical[indices[i][1]][1])\n",
    "            for i in range(N)\n",
    "        ]\n",
    "        \n",
    "        min_distance_found = np.min(nearest_distances)\n",
    "        \n",
    "        if min_distance_found > min_distance:\n",
    "            break\n",
    "        \n",
    "        N -= 2  # Increment N and try again\n",
    "    \n",
    "    return N, points_spherical, nearest_distances"
   ]
  },
  {
   "cell_type": "code",
   "execution_count": 3,
   "metadata": {},
   "outputs": [],
   "source": [
    "def vertices_from_center(center, patch_size):\n",
    "    \"\"\"\n",
    "    Generate the vertices of a patch centered at a given point on the sphere.\n",
    "    \n",
    "    Parameters:\n",
    "    center (np.ndarray): Array of shape (2,) containing the (theta, phi) coordinates of the center of the patch.\n",
    "    patch_size (float): Size of the patch in degrees.\n",
    "    \n",
    "    Returns:\n",
    "    np.ndarray: Array of shape (4, 2) containing the (theta, phi) coordinates of the vertices of the patch.\n",
    "    \"\"\"\n",
    "    theta, phi = center\n",
    "    half_size = np.radians(patch_size) / np.sqrt(2)\n",
    "    \n",
    "    vertices = np.array([\n",
    "        [theta, phi + half_size * np.sin(theta)],\n",
    "        [theta + half_size, phi],\n",
    "        [theta, phi - half_size  * np.sin(theta)],\n",
    "        [theta - half_size, phi]\n",
    "    ])\n",
    "    \n",
    "    return vertices"
   ]
  },
  {
   "cell_type": "code",
   "execution_count": 4,
   "metadata": {},
   "outputs": [],
   "source": [
    "import math\n",
    "\n",
    "def M(axis, theta):\n",
    "    \"\"\"\n",
    "    Return the rotation matrix associated with counterclockwise rotation about\n",
    "    the given axis by theta radians.\n",
    "    \"\"\"\n",
    "    axis = np.asarray(axis)\n",
    "    axis = axis / math.sqrt(np.dot(axis, axis))\n",
    "    a = math.cos(theta / 2.0)\n",
    "    b, c, d = -axis * math.sin(theta / 2.0)\n",
    "    aa, bb, cc, dd = a * a, b * b, c * c, d * d\n",
    "    bc, ad, ac, ab, bd, cd = b * c, a * d, a * c, a * b, b * d, c * d\n",
    "    return np.array([[aa + bb - cc - dd, 2 * (bc + ad), 2 * (bd - ac)],\n",
    "                     [2 * (bc - ad), aa + cc - bb - dd, 2 * (cd + ab)],\n",
    "                     [2 * (bd + ac), 2 * (cd - ab), aa + dd - bb - cc]])\n",
    "\n",
    "def spherical_to_cartesian(theta, phi, r=1):\n",
    "    x = r * np.sin(theta) * np.cos(phi)\n",
    "    y = r * np.sin(theta) * np.sin(phi)\n",
    "    z = r * np.cos(theta)\n",
    "    return x, y, z\n",
    "\n",
    "def cartesian_to_spherical(x, y, z):\n",
    "    r = np.sqrt(x**2 + y**2 + z**2)\n",
    "    theta = np.arccos(z / r)\n",
    "    phi = np.arctan2(y, x)\n",
    "    return r, theta, phi\n",
    "\n",
    "def rotation_matrix(theta, phi):\n",
    "    \"\"\"\n",
    "    Generate a rotation matrix for rotating a point on the sphere by theta and phi.\n",
    "    \"\"\"\n",
    "    R_phi = M([0, 0, 1], phi)\n",
    "    R_theta = M(np.array([np.sin(phi), -np.cos(phi), 0]), np.pi/2 - theta)\n",
    "    return np.dot(R_theta, R_phi)\n",
    "\n",
    "def rotate_point(point, theta, phi):\n",
    "    \"\"\"\n",
    "    Rotate a point on the sphere by theta and phi.\n",
    "    \"\"\"\n",
    "    x, y, z = spherical_to_cartesian(*point)\n",
    "    x_rot, y_rot, z_rot = np.dot(rotation_matrix(theta, phi), np.array([x, y, z]))\n",
    "    return cartesian_to_spherical(x_rot, y_rot, z_rot)[1:]\n",
    "\n",
    "def rotated_vertices(center, patch_size):\n",
    "    \"\"\"\n",
    "    Generate the vertices of a patch centered at a given point on the sphere, rotated by theta and phi.\n",
    "    \"\"\"\n",
    "    theta, phi = center\n",
    "    vertices = vertices_from_center([np.pi/2, 0], patch_size)\n",
    "    rotated_vertices = np.array([rotate_point(vertex, theta, phi) for vertex in vertices])\n",
    "    return rotated_vertices"
   ]
  },
  {
   "cell_type": "markdown",
   "metadata": {},
   "source": [
    "# Plot"
   ]
  },
  {
   "cell_type": "code",
   "execution_count": 24,
   "metadata": {},
   "outputs": [
    {
     "name": "stdout",
     "output_type": "stream",
     "text": [
      "273\n"
     ]
    }
   ],
   "source": [
    "points = fibonacci_grid_on_sphere(N=273)\n",
    "radius = np.radians(patch_size)* np.sqrt(2)\n",
    "\n",
    "tmp = np.zeros(hp.nside2npix(nside))\n",
    "\n",
    "pixels = []\n",
    "for center in points[(points[:, 0] < np.pi - radius) & (points[:, 0] > radius)]:\n",
    "    vertices = rotated_vertices(center, patch_size)\n",
    "    vecs = hp.ang2vec(vertices[:, 0], vertices[:, 1])\n",
    "\n",
    "    ipix = hp.query_polygon(nside=nside, vertices=vecs, nest=True)\n",
    "    tmp[ipix] += 1\n",
    "    pixels.append(len(ipix))\n",
    "\n",
    "for center in points[(points[:, 0] > np.pi - radius) | (points[:, 0] < radius)]:\n",
    "    vertices = rotated_vertices(center, patch_size)\n",
    "    vecs = hp.ang2vec(vertices[:, 0], vertices[:, 1])\n",
    "\n",
    "    ipix = hp.query_polygon(nside=nside, vertices=vecs, nest=True)\n",
    "    tmp[ipix] -= 1\n",
    "    pixels.append(len(ipix))\n",
    "\n",
    "#ipix_pole = hp.query_disc(nside=nside, vec=hp.ang2vec(0, 0), radius=radius/2, nest=True)\n",
    "#tmp[ipix_pole] -= 1\n",
    "\n",
    "#ipix_pole = hp.query_disc(nside=nside, vec=hp.ang2vec(np.pi, 0), radius=radius/2, nest=True)\n",
    "#tmp[ipix_pole] -= 1\n",
    "\n",
    "print(len(points))"
   ]
  },
  {
   "cell_type": "code",
   "execution_count": 29,
   "metadata": {},
   "outputs": [],
   "source": [
    "# データの読み込み\n",
    "data = tmp\n",
    "\n",
    "# ファイル名の定義\n",
    "fibonacci_grid_filename = f'{save_dir}/fibonacci_grid.png'\n",
    "top_view_filename = f'{save_dir}/fibonacci_grid_top_view.png'\n",
    "\n",
    "# Fibonacciグリッドのプロット\n",
    "hp.orthview(data, title=r'Fibonacci grid (10x10 $deg^2$), 273 Patch', nest=True, half_sky=True, cbar=False, cmap='viridis')\n",
    "plt.savefig(fibonacci_grid_filename, bbox_inches='tight')\n",
    "plt.close()\n",
    "\n",
    "# トップビューのプロット\n",
    "hp.orthview(data, title='Top view', nest=True, rot=(0, 90, 0), half_sky=True, cbar=False, cmap='viridis')\n",
    "plt.savefig(top_view_filename, bbox_inches='tight')\n",
    "plt.close()"
   ]
  },
  {
   "cell_type": "markdown",
   "metadata": {},
   "source": [
    "# Optimization"
   ]
  },
  {
   "cell_type": "code",
   "execution_count": null,
   "metadata": {},
   "outputs": [
    {
     "name": "stdout",
     "output_type": "stream",
     "text": [
      "testing N =  280\n",
      "testing N =  270\n"
     ]
    }
   ],
   "source": [
    "radius = np.radians(patch_size)* np.sqrt(2) *1.1\n",
    "\n",
    "def optimal_N(patch_size, N=280):\n",
    "    flag = True\n",
    "    radius = np.radians(patch_size) * np.sqrt(2)\n",
    "    while flag:\n",
    "        print(\"testing N = \", N)\n",
    "        points = fibonacci_grid_on_sphere(N)\n",
    "        counts = np.zeros(hp.nside2npix(nside))\n",
    "        for center in points[(points[:, 0] < np.pi - radius) & (points[:, 0] > radius)]:\n",
    "            vertices = rotated_vertices(center, patch_size)\n",
    "            vecs = hp.ang2vec(vertices[:, 0], vertices[:, 1])\n",
    "            ipix = hp.query_polygon(nside=nside, vertices=vecs, nest=True)\n",
    "            counts[ipix] += 1\n",
    "            if np.any(counts[ipix] > 1):\n",
    "                N -= 10\n",
    "                break\n",
    "        if np.all(counts[ipix] <= 1):\n",
    "            flag = False\n",
    "    return N\n",
    "\n",
    "\n",
    "N = optimal_N(patch_size)"
   ]
  }
 ],
 "metadata": {
  "kernelspec": {
   "display_name": "Python 3 (ipykernel)",
   "language": "python",
   "name": "python3"
  }
 },
 "nbformat": 4,
 "nbformat_minor": 2
}
