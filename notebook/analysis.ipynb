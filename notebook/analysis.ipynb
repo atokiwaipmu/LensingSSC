{
 "cells": [
  {
   "cell_type": "markdown",
   "metadata": {},
   "source": [
    "# Import Libraries"
   ]
  },
  {
   "cell_type": "code",
   "execution_count": 1,
   "metadata": {},
   "outputs": [],
   "source": [
    "import healpy as hp\n",
    "import numpy as np\n",
    "from pathlib import Path\n",
    "from matplotlib import pyplot as plt"
   ]
  },
  {
   "cell_type": "code",
   "execution_count": 6,
   "metadata": {},
   "outputs": [
    {
     "name": "stderr",
     "output_type": "stream",
     "text": [
      "2024-10-09 08:22:54,317 - INFO - Note: NumExpr detected 52 cores but \"NUMEXPR_MAX_THREADS\" not set, so enforcing safe limit of 8.\n"
     ]
    }
   ],
   "source": [
    "from src.info_extractor import InfoExtractor\n",
    "from src.patch_analyser import PatchAnalyser\n",
    "from src.fullsky_analyser import FullSkyAnalyser\n",
    "from analysis import KappaAnalyser\n",
    "from src.patch_processor import PatchProcessor\n",
    "from src.utils import load_config, filter_config, setup_logging"
   ]
  },
  {
   "cell_type": "markdown",
   "metadata": {},
   "source": [
    "# Setup the environment"
   ]
  },
  {
   "cell_type": "code",
   "execution_count": 3,
   "metadata": {},
   "outputs": [],
   "source": [
    "workdir = Path(\"/lustre/work/akira.tokiwa/Projects/LensingSSC\")\n",
    "config_file = workdir / \"configs\" / \"config_default.yaml\"\n",
    "sample_dir = workdir / \"data\" / \"tiled\" / \"proc2048_nc1024_size625_nsteps60_s401_10tiled\""
   ]
  },
  {
   "cell_type": "code",
   "execution_count": 4,
   "metadata": {},
   "outputs": [],
   "source": [
    "config = load_config(config_file)\n",
    "setup_logging()"
   ]
  },
  {
   "cell_type": "code",
   "execution_count": 8,
   "metadata": {},
   "outputs": [
    {
     "name": "stderr",
     "output_type": "stream",
     "text": [
      "2024-10-09 08:23:12,553 - INFO - Initialized PatchProcessor with npatch=273, patch_size_deg=10.0, xsize=2048\n",
      "2024-10-09 08:23:12,554 - INFO - Initializing FlatPatchAnalyser with nbin=15, lmin=300, lmax=3000\n",
      "2024-10-09 08:23:12,564 - INFO - FullSkyAnalyser initialized with nside=8192, nbin=15, lmin=300, lmax=3000\n",
      "2024-10-09 08:23:12,565 - INFO - Output directories created\n"
     ]
    }
   ],
   "source": [
    "filtered_config_pp = filter_config(config, PatchProcessor)\n",
    "pp = PatchProcessor(**filtered_config_pp)\n",
    "\n",
    "filtered_config_pa = filter_config(config, PatchAnalyser)\n",
    "pa = PatchAnalyser(pp, **filtered_config_pa)\n",
    "\n",
    "filtered_config_fsa = filter_config(config, FullSkyAnalyser)\n",
    "fsa = FullSkyAnalyser(**filtered_config_fsa)\n",
    "\n",
    "ka = KappaAnalyser(sample_dir, pa, fsa)"
   ]
  },
  {
   "cell_type": "code",
   "execution_count": 9,
   "metadata": {},
   "outputs": [],
   "source": [
    "# ka.analyse()"
   ]
  },
  {
   "cell_type": "markdown",
   "metadata": {},
   "source": [
    "# Sample run"
   ]
  },
  {
   "cell_type": "code",
   "execution_count": 11,
   "metadata": {},
   "outputs": [],
   "source": [
    "patch_kappa_path = ka.patch_kappa_paths[0]\n",
    "tmp_kappa_patches = np.load(patch_kappa_path)\n",
    "tmp_snr_paths = ka._filter_paths_by_input(ka.patch_snr_paths, patch_kappa_path)\n",
    "patch_snr_path = tmp_snr_paths[0]\n",
    "fname = Path(patch_snr_path).name.replace('patches', 'analysis')\n",
    "snr_patches = np.load(patch_snr_path)\n",
    "data = ka.pa.process_patches(tmp_kappa_patches, snr_patches)"
   ]
  },
  {
   "cell_type": "code",
   "execution_count": 23,
   "metadata": {},
   "outputs": [],
   "source": [
    "# sk0, sk1, sk2, kur0, kur1, kur2, kur3 are scalars\n",
    "# all the other values are the same length: pa.nbin\n",
    "# The order of the values is equilateral, isosceles, squeezed, clkk,\n",
    "#            sk0, sk1, sk2, kur0, kur1, kur2, kur3,\n",
    "#            pdf_vals, peaks, minima, v0, v1, v2\n",
    "\n",
    "# separate the data\n",
    "equilateral = data[:, pa.nbin * 0:pa.nbin * 1]\n",
    "isosceles = data[:, pa.nbin * 1:pa.nbin * 2]\n",
    "squeezed = data[:, pa.nbin * 2:pa.nbin * 3]\n",
    "clkk = data[:, pa.nbin * 3:pa.nbin * 4]\n",
    "sk0 = data[:, pa.nbin * 4]\n",
    "sk1 = data[:, pa.nbin * 4 + 1]\n",
    "sk2 = data[:, pa.nbin * 4 + 2]\n",
    "kur0 = data[:, pa.nbin * 4 + 3]\n",
    "kur1 = data[:, pa.nbin * 4 + 4]\n",
    "kur2 = data[:, pa.nbin * 4 + 5]\n",
    "kur3 = data[:, pa.nbin * 4 + 6]\n",
    "pdf_vals = data[:, pa.nbin * 4 + 7:pa.nbin * 5 + 7]\n",
    "peaks = data[:, pa.nbin * 5 + 7:pa.nbin * 6 + 7]\n",
    "minima = data[:, pa.nbin * 6 + 7:pa.nbin * 7 + 7]\n",
    "v0 = data[:, pa.nbin * 7 + 7:pa.nbin * 8 + 7]\n",
    "v1 = data[:, pa.nbin * 8 + 7:pa.nbin * 9 + 7]\n",
    "v2 = data[:, pa.nbin * 9 + 7:pa.nbin * 10 + 7]"
   ]
  },
  {
   "cell_type": "code",
   "execution_count": 14,
   "metadata": {},
   "outputs": [],
   "source": [
    "global_std = np.std(snr_patches)"
   ]
  },
  {
   "cell_type": "code",
   "execution_count": 15,
   "metadata": {},
   "outputs": [],
   "source": [
    "from lenstools import ConvergenceMap\n",
    "from astropy import units as u\n",
    "\n",
    "patch_pixels = tmp_kappa_patches[0]\n",
    "patch_snr_pixels = snr_patches[0]\n",
    "\n",
    "# Process kappa (convergence) map\n",
    "conv_map = ConvergenceMap(patch_pixels, angle=pa.patch_size * u.deg)\n",
    "equilateral, isosceles, squeezed = pa._compute_bispectrum(conv_map)\n",
    "clkk = pa._compute_power_spectrum(conv_map)\n",
    "sk0, sk1, sk2, kur0, kur1, kur2, kur3 = pa._compute_moments(conv_map, global_std)\n",
    "\n",
    "# Process SNR map\n",
    "snr_map = ConvergenceMap(patch_snr_pixels/global_std, angle=pa.patch_size * u.deg)\n",
    "pdf_vals = pa._compute_pdf(snr_map)\n",
    "peaks = pa._compute_peak_statistics(snr_map, is_minima=False)\n",
    "minima = pa._compute_peak_statistics(snr_map, is_minima=True)\n",
    "v0,v1,v2 = pa._compute_minkowski_functionals(snr_map)"
   ]
  },
  {
   "cell_type": "markdown",
   "metadata": {},
   "source": [
    "# Check the output files"
   ]
  },
  {
   "cell_type": "code",
   "execution_count": null,
   "metadata": {},
   "outputs": [],
   "source": []
  },
  {
   "cell_type": "code",
   "execution_count": null,
   "metadata": {},
   "outputs": [],
   "source": []
  },
  {
   "cell_type": "code",
   "execution_count": null,
   "metadata": {},
   "outputs": [],
   "source": []
  },
  {
   "cell_type": "code",
   "execution_count": null,
   "metadata": {},
   "outputs": [],
   "source": []
  },
  {
   "cell_type": "code",
   "execution_count": null,
   "metadata": {},
   "outputs": [],
   "source": []
  }
 ],
 "metadata": {
  "kernelspec": {
   "display_name": "Python 3 (ipykernel)",
   "language": "python",
   "name": "python3"
  },
  "language_info": {
   "codemirror_mode": {
    "name": "ipython",
    "version": 3
   },
   "file_extension": ".py",
   "mimetype": "text/x-python",
   "name": "python",
   "nbconvert_exporter": "python",
   "pygments_lexer": "ipython3",
   "version": "3.8.19"
  }
 },
 "nbformat": 4,
 "nbformat_minor": 2
}
